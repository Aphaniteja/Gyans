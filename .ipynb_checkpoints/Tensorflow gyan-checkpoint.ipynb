{
 "cells": [
  {
   "cell_type": "code",
   "execution_count": 1,
   "metadata": {
    "collapsed": true
   },
   "outputs": [],
   "source": [
    "import tensorflow as tf\n",
    "import numpy as np"
   ]
  },
  {
   "cell_type": "markdown",
   "metadata": {},
   "source": [
    "# Session:\n",
    "A session allocates the memory to variables etc. Thats why variables need to be initialized. Because while creating variables,we are not allocating any memory to them. \n",
    "\n",
    "with sess:\n",
    "-- the session used like this closes the session at the end, otherwise the session remains open. You need to reinitialize the variables in other session if you want to evaluate them again.\n",
    "\n",
    "with sess as default:\n",
    "-- the session remains open \n",
    "\n",
    "What is an interactive Session?\n",
    "with interactive session on , you can use eval() to evaluate any constant or variable.\n",
    "with just defining sess=tf.session() , you have to use sess.run() to evaluate any constant or variable.\n",
    "\n",
    "with sess :\n",
    "You can use both sess.run() and eval() to evaluate constants and variables. this is within the context of a session.\n",
    "\n",
    "Each session will maintain its own values"
   ]
  },
  {
   "cell_type": "markdown",
   "metadata": {},
   "source": [
    "# Tensorboard\n",
    "\n",
    "steps\n",
    "\n",
    "1) summarise the quantities you want\n",
    "\n",
    "2) merge them\n",
    "\n",
    "3) create a writer. You need to pass log directory and a graph(optional). You have to create a writer after you have built the graph.\n",
    "\n",
    "4) run the merged file , you'll get back a summary file.\n",
    "\n",
    "5) add the summary file to the writer  \n",
    "6) open tensorboard from terminal tensorboard --logdir=\n"
   ]
  },
  {
   "cell_type": "markdown",
   "metadata": {},
   "source": [
    "# Variables\n",
    "\n",
    "Variables need to be initialized.\n",
    "However assign op can automsatically initialize the variable. because initialize op is a sort of assign op whic assign variables initial values.\n",
    "\n",
    "When Declaring Variables,constants,and placeholders, you should declare them under name scopes so that your graph is organized.\n",
    "\n",
    "\n",
    "*\n",
    "\n",
    "accepted\n",
    "I'd recommend to always use tf.get_variable(...) -- it will make it way easier to refactor your code if you need to share variables at any time, e.g. in a multi-gpu setting (see the multi-gpu CIFAR example). There is no downside to it.  \n",
    "\n",
    "Pure tf.Variable is lower-level; at some point tf.get_variable() did not exist so some code still uses the low-level way  \n",
    "\n",
    "*\n",
    "\n",
    "tf.Variable is a class, and there are several ways to create tf.Variable including tf.Variable.__init__ and tf.get_variable.  \n",
    "\n",
    "tf.Variable.__init__: Creates a new variable with initial_value.  \n",
    "\n",
    "W = tf.Variable(<initial-value>, name=<optional-name>)  \n",
    "tf.get_variable: Gets an existing variable with these parameters or create a new one. You can also use initializer.  \n",
    "\n",
    "W = tf.get_variable(name, shape=None, dtype=tf.float32, initializer=None,  \n",
    "       regularizer=None, trainable=True, collections=None)  \n",
    "       \n",
    "*  It's very useful to use initializers such as xavier_initializer:  \n",
    "\n",
    "    W = tf.get_variable(\"W\", shape=[784, 256],  \n",
    "           initializer=tf.contrib.layers.xavier_initializer())  "
   ]
  },
  {
   "cell_type": "markdown",
   "metadata": {
    "collapsed": true
   },
   "source": [
    "# Constants,Sequences,random values\n",
    "\n",
    "\n",
    "## Constants\n",
    "1) tf.zeros: creates a tensor filled with zeros of required shape.\n",
    "\n",
    "2) tf.zeros_like:self explanatory- creates a zeros with the shape of a given tensor\n",
    "\n",
    "3) tf.ones\n",
    "\n",
    "4) tf.ones_like\n",
    "\n",
    "5) tf.fill  - when shape,and value are specified it returns back a tensor with the shape filled with that value  \n",
    "\n",
    "6) tf.constant \n",
    "\n",
    "## Sequences:\n",
    "\n",
    "1) tf.linspace() [start,stop,num]: Gives required amount of numbers in the stop-start range  \n",
    "\n",
    "2) tf.range() [start,limit,delta]: if no start is specified ,it starts from 0. Arg names must be specified when no start is given  \n",
    "\n",
    "## Randoms:\n",
    "1)tf.random_normal [shape,mean,std]:gives a tensor filled with random values sampled from normal distribution\n",
    "\n",
    "2)tf.truncated_normal :same as above except when the numbers are 2 std away,they are sampled again\n",
    "\n",
    "3)tf.random_uniform [shape,min,max]:gives a tensor filled with random values sampled from uniform distribution\n"
   ]
  },
  {
   "cell_type": "markdown",
   "metadata": {},
   "source": [
    "# Math"
   ]
  },
  {
   "cell_type": "markdown",
   "metadata": {},
   "source": [
    "1)  tf.where [condition]: return indices where the condition is true  \n",
    "2)  tf.gather [Tensr,indices]: returns the values from indices  \n",
    "3)  tf.unique:returns unique array,and indices of tensor   \n",
    "4)  tf.reduce_sum:similar to np.sum  \n",
    "5)"
   ]
  },
  {
   "cell_type": "markdown",
   "metadata": {},
   "source": [
    "# Control Flow\n",
    "\n",
    "1) tf.cond\n",
    "2) tf.case\n",
    "3) tf.select : difficult to explain , read at https://www.tensorflow.org/versions/r0.12/api_docs/python/control_flow_ops/comparison_operators#select\n",
    "\n",
    "4) tf.Identity: Creates a tensor with the same shape and content of the input tensor\n",
    "\n",
    "5) tf.tuple:groups two ops together\n",
    "\n",
    "6) tf.group:groups many ops into one\n",
    "\n",
    "7)tf.count_up_to [ref,limit]:increments ref until it reaches the limit\n",
    "\n",
    "8) logicals:tf.logical_and,tf.logical_or,tf.logical_not,tf.logical_xor\n",
    "\n",
    "9) Debugging :tf.is_finite\n",
    "tf.is_inf  \n",
    "tf.is_nan  \n",
    "tf.verify_tensor_all_finite  \n",
    "tf.check_numerics  \n",
    "tf.add_check_numerics_ops : adds checks for all ops of type half,float,double  \n",
    "tf.Assert  [condition, data] :Asserts that the given condition is true.  \n",
    "tf.Print  \n",
    "\n",
    "pretty explanatory"
   ]
  },
  {
   "cell_type": "markdown",
   "metadata": {},
   "source": [
    "# Tensor Transformations\n",
    "\n",
    "* tf.cast[tensor,dtype]   : Casting can be done with the function\n",
    "* tf.slice [input,begin,size]:slices a given tensor begins at begin,ends when the required size ids complete  "
   ]
  },
  {
   "cell_type": "markdown",
   "metadata": {
    "collapsed": true
   },
   "source": [
    "## Shapes and shape transformations:\n",
    "* tf.shape - gives the shape of the tensor\n",
    "* tf.reshape -allows you to reshape the tensor ."
   ]
  },
  {
   "cell_type": "markdown",
   "metadata": {},
   "source": [
    "# Profiling\n",
    "\n",
    "*  Also, you can see which ops are allocating memory by doing something like\n",
    "this\n",
    "\n"
   ]
  },
  {
   "cell_type": "raw",
   "metadata": {},
   "source": [
    "run_metadata = tf.RunMetadata()\n",
    "sess.run([C.op],\n",
    "             options=tf.RunOptions(trace_level=tf.RunOptions.FULL_TRACE),\n",
    "             run_metadata=run_metadata)\n",
    "print run_metadata"
   ]
  },
  {
   "cell_type": "markdown",
   "metadata": {
    "collapsed": true
   },
   "source": []
  },
  {
   "cell_type": "markdown",
   "metadata": {},
   "source": [
    "# Modelling Technquies "
   ]
  },
  {
   "cell_type": "markdown",
   "metadata": {},
   "source": [
    "## When you can load the data into RAM"
   ]
  },
  {
   "cell_type": "markdown",
   "metadata": {},
   "source": [
    "### step 1. Load the data into numpy arrays\n",
    "\n",
    "* load X_train and y_train\n",
    "\n",
    "* #### Subsample the data to create training and validation sets\n",
    "    mask = range(num_training, num_training + num_validation)  \n",
    "    X_val = X_train[mask]  \n",
    "    y_val = y_train[mask]  \n",
    "    mask = range(num_training)  \n",
    "    X_train = X_train[mask]  \n",
    "    y_train = y_train[mask]  \n",
    "    mask = range(num_test)  \n",
    "    X_test = X_test[mask]  \n",
    "    y_test = y_test[mask]  "
   ]
  },
  {
   "cell_type": "markdown",
   "metadata": {},
   "source": [
    "* #### Normalize the data: subtract the mean image\n",
    "    mean_image = np.mean(X_train, axis=0)  \n",
    "    X_train -= mean_image  \n",
    "    X_val -= mean_image  \n",
    "    X_test -= mean_image  \n"
   ]
  },
  {
   "cell_type": "markdown",
   "metadata": {},
   "source": [
    "### Step2. Construct the model:\n",
    "\n",
    "* usually very straightforward. Of course you will  experiment a lot here. But this is usally the easiest step.\n",
    "\n",
    "def model(X,y)  \n",
    "y_out=model(X_tain,y)  "
   ]
  },
  {
   "cell_type": "markdown",
   "metadata": {},
   "source": [
    "### Step3. Loss and Optimizer"
   ]
  },
  {
   "cell_type": "markdown",
   "metadata": {},
   "source": [
    "* define a mean loss , with loss being cross entropy loss in general .\n",
    "\n",
    "  eg  mean_loss = tf.reduce_mean(tf.nn.softmax_cross_entropy_with_logits(labels=tf.one_hot(y,10),logits=y_out))\n",
    "\n",
    "* in Advanced models you might have to define your own loss. That would be a little bit more challenging.\n",
    "\n"
   ]
  },
  {
   "cell_type": "markdown",
   "metadata": {},
   "source": [
    "### Step 4  Run model\n",
    "\n",
    "* logistically the most difficult step in training. "
   ]
  }
 ],
 "metadata": {
  "anaconda-cloud": {},
  "kernelspec": {
   "display_name": "Python [conda env:py35]",
   "language": "python",
   "name": "conda-env-py35-py"
  },
  "language_info": {
   "codemirror_mode": {
    "name": "ipython",
    "version": 3
   },
   "file_extension": ".py",
   "mimetype": "text/x-python",
   "name": "python",
   "nbconvert_exporter": "python",
   "pygments_lexer": "ipython3",
   "version": "3.5.2"
  }
 },
 "nbformat": 4,
 "nbformat_minor": 1
}
