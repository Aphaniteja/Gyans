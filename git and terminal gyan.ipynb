{
 "cells": [
  {
   "cell_type": "markdown",
   "metadata": {},
   "source": [
    "# 1. Version Control and distributed access\n",
    "\n",
    "* You should stop saving the file in multiple files , instead start using git \n",
    "\n",
    "* A good first approximation is that anything a centralized version control system can do, a well-designed\n",
    "  distributed system can do better. \n",
    "  \n",
    "* Moreover, your project may grow beyond your original expectations. Using Git from the outset is like\n",
    "    carrying a Swiss army knife even though you mostly use it to open bottles. On the day you desperately\n",
    "    need a screwdriver you’ll be glad you have more than a plain bottle-opener  \n",
    "    \n",
    "    "
   ]
  }
 ],
 "metadata": {
  "kernelspec": {
   "display_name": "Python [conda env:py35]",
   "language": "python",
   "name": "conda-env-py35-py"
  },
  "language_info": {
   "codemirror_mode": {
    "name": "ipython",
    "version": 3
   },
   "file_extension": ".py",
   "mimetype": "text/x-python",
   "name": "python",
   "nbconvert_exporter": "python",
   "pygments_lexer": "ipython3",
   "version": "3.5.2"
  }
 },
 "nbformat": 4,
 "nbformat_minor": 1
}
