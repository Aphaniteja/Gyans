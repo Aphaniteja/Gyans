{
 "cells": [
  {
   "cell_type": "markdown",
   "metadata": {},
   "source": [
    "# 1. Before Interview"
   ]
  },
  {
   "cell_type": "markdown",
   "metadata": {},
   "source": [
    "* Communication is very important.\n",
    "* if you've written something on your resume,you better know the shit about it.\n",
    "* Remember, your potential future team members need to know that they can rely on you.\n",
    "  And they need to know that you won’t need constant supervision and hand-holding.\n",
    "*   They need to know that you’re able to figure things out on your own. One of the most important\n",
    "    messages that you, as a candidate, can convey in your interview is hiring me will make your\n",
    "    lives easier. In fact, this is a large part of the reason for the famously difficult interview ques-\n",
    "    tions at places like Amazon and Google; if you can handle that kind of unpredictable pres-\n",
    "    sure in an interview, then you stand a good chance of being useful to them on real projects.\n",
    "* From the interviewer’s point of view, they’re picking a neighbor that they’re going to live and work with 200   hours per  month for foreseeable future  \n",
    "\n",
    "* For each role,try to discuss your accomplishments\n",
    "    with the following approach: “Accom-\n",
    "    plished X by implementing Y which led\n",
    "    to Z.\n"
   ]
  },
  {
   "cell_type": "markdown",
   "metadata": {
    "collapsed": true
   },
   "source": [
    "* show what you did, how you did it, and what the results were. Ideally, you should try\n",
    "    to make the results “measurable” somehow\n",
    "    \n",
    "* State what the project was, which languages or tech-\n",
    "    nologies it employed, and whether it was an individual or a team project. If your project\n",
    "    was not for a course, that’s even better! It shows passion, initiative, and work ethic. You can\n",
    "    state the type of project by listing course projects as “Course Project” and your independent\n",
    "    projects as “Independent Projects” (or some other wording).    "
   ]
  },
  {
   "cell_type": "markdown",
   "metadata": {},
   "source": [
    "* Most interviewers will give you a chance to ask them questions. The quality of your ques-\n",
    "  tions will be a factor, whether subconsciously or consciously, in their decisions.\n",
    "  \n",
    "* 1)Genuine questions,insightful questions and passion questions\n",
    "\n",
    "* \n"
   ]
  },
  {
   "cell_type": "code",
   "execution_count": null,
   "metadata": {
    "collapsed": true
   },
   "outputs": [],
   "source": []
  }
 ],
 "metadata": {
  "anaconda-cloud": {},
  "kernelspec": {
   "display_name": "Python [conda env:py35]",
   "language": "python",
   "name": "conda-env-py35-py"
  },
  "language_info": {
   "codemirror_mode": {
    "name": "ipython",
    "version": 3
   },
   "file_extension": ".py",
   "mimetype": "text/x-python",
   "name": "python",
   "nbconvert_exporter": "python",
   "pygments_lexer": "ipython3",
   "version": "3.5.2"
  }
 },
 "nbformat": 4,
 "nbformat_minor": 1
}
